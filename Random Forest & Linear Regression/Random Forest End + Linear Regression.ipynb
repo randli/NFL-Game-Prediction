{
  "nbformat": 4,
  "nbformat_minor": 0,
  "metadata": {
    "colab": {
      "name": "Personal testing 144 Project.ipynb",
      "version": "0.3.2",
      "provenance": [],
      "collapsed_sections": []
    },
    "kernelspec": {
      "name": "python3",
      "display_name": "Python 3"
    }
  },
  "cells": [
    {
      "metadata": {
        "id": "AP9B6tBGiuPa",
        "colab_type": "code",
        "outputId": "46474e70-11c2-4106-f93c-261f8e876bd5",
        "colab": {
          "base_uri": "https://localhost:8080/",
          "height": 302
        }
      },
      "cell_type": "code",
      "source": [
        "import os,csv\n",
        "from os import listdir\n",
        "from os.path import isfile, join\n",
        "import numpy as np         # linear algebra\n",
        "import sklearn as sk       # machine learning\n",
        "from sklearn.model_selection import train_test_split # to split off training and test sets\n",
        "from sklearn import preprocessing  # for standardizing the data\n",
        "from sklearn import metrics  # Useful for creating confusion matrices\n",
        "import pandas as pd        # reading in data files, data cleaning\n",
        "import matplotlib.pyplot as plt   # for plotting\n",
        "import seaborn as sns      # visualization tool\n",
        "import tensorflow as tf    # for creating neural networks\n",
        "from tensorflow import keras   # an easier interface to work with than tensorflo\n",
        "\n",
        "# Some useful functions we'll be needing later\n",
        "Dense = keras.layers.Dense\n",
        "Activation = keras.layers.Activation\n",
        "to_categorical = keras.utils.to_categorical\n",
        "Sequential = keras.Sequential\n",
        "\n",
        "\n",
        "teams_csv = \"/2018_teams.csv\"\n",
        "games_csv = \"/2018_games.csv\"\n",
        "\n",
        "def create_team(columns, data):\n",
        "    team = {}\n",
        "    i = 0\n",
        "    for column in data:\n",
        "        column_title = str(columns[i])\n",
        "        if i == 0:\n",
        "            team[column_title] = column.lower()\n",
        "        elif column_title == \"division\":\n",
        "            team[column_title] = str(column).split(\",\")\n",
        "        else:\n",
        "            team[column_title] = float(column)\n",
        "        i+=1\n",
        "    team[\"schedule\"] = []\n",
        "    return team\n",
        "\n",
        "def write_team(data, name):\n",
        "    with open(name + \".pickle\", 'w') as handle:\n",
        "        pickle.dump(data, handle, protocol=pickle.HIGHEST_PROTOCOL)\n",
        "\n",
        "def open_all_teams():\n",
        "    teams = {}\n",
        "    for team in listdir(\"teams\"):\n",
        "        if \".pickle\" in team:\n",
        "            with open(\"teams/\" + team, 'rb') as handle:\n",
        "                data = pickle.load(handle)\n",
        "                teams[data[\"team\"]] = data\n",
        "    return teams\n",
        "\n",
        "def initialize_teams():\n",
        "    with open(teams_csv) as teams:\n",
        "        readCSV = csv.reader(teams, delimiter=',')\n",
        "        columns = next(readCSV)\n",
        "        database = {}\n",
        "        for row in readCSV:\n",
        "            team = create_team(columns, row)\n",
        "            database[team[\"team\"]] = team\n",
        "        return database\n",
        "\n",
        "\n",
        "def process_season(database):\n",
        "    with open(games_csv) as games:\n",
        "        readCSV = csv.reader(games, delimiter=',')\n",
        "        columns = next(readCSV)\n",
        "        for row in readCSV:\n",
        "            w_dict = {\"opponent\":row[3].lower(),\"home\":True if int(row[2]) == 1 else False,\"win\":True,\"points_for\":float(row[4]),\"points_allowed\":float(row[5]),\"yards_for\":float(row[6]),\"yards_allowed\":float(row[8]),\"turnovers_per_game\":float(row[7]), \"turnover_caused\":float(row[9]), \"penalty_yds_against\":float(row[10]), \"penalty_yds_help\":float(row[11]), \"time_of_possession\":float(row[12]), \"opposing_possession\":float(row[13])}\n",
        "            l_dict = {\"opponent\":row[1].lower(),\"home\":False if int(row[2]) == 1 else True,\"win\":False,\"points_for\":float(row[5]),\"points_allowed\":float(row[4]),\"yards_for\":float(row[8]),\"yards_allowed\":float(row[6]),\"turnovers_per_game\":float(row[9]), \"turnover_caused\":float(row[7]), \"penalty_yds_help\":float(row[11]), \"penalty_yds_against\":float(row[10]), \"time_of_possession\":float(row[13]), \"opposing_possession\":float(row[12])}\n",
        "            database[row[1].lower()][\"schedule\"].append(w_dict)\n",
        "            database[row[3].lower()][\"schedule\"].append(l_dict)\n",
        "            \n",
        "def process_season_whole():\n",
        "    with open(games_csv) as games:\n",
        "        readCSV = csv.reader(games, delimiter=',')\n",
        "        columns = next(readCSV)\n",
        "        database = []\n",
        "        for row in readCSV:\n",
        "            w_dict = {\"winner_points_for\":float(row[4]),\"loser_points_for\":float(row[5]),\"winner_yards_for\":float(row[6]),\"winner\":row[1].lower(),\"loser\":row[3].lower(),\"loser_yards_for\":float(row[8]), \"winner_turnovers\":float(row[7]), \"loser_turnovers\":float(row[9]), \"winner_penalty_yds\":float(row[10]), \"loser_penalty_yds\":float(row[11]), \"winner_top\":float(row[12]), \"loser_top\":float(row[13])}\n",
        "            database.append(w_dict)\n",
        "        return database\n",
        "      \n",
        "# database = initialize_teams()\n",
        "# process_season(database)\n",
        "data = pd.DataFrame.from_dict(process_season_whole())\n",
        "data.info()\n",
        "# raiders_schedule = pd.DataFrame.from_dict(data[\"rams\"][\"schedule\"])\n",
        "# corrmat = raiders_schedule.corr()\n",
        "# f, ax = plt.subplots(figsize=(12, 9))\n",
        "# sns.heatmap(corrmat, vmax=0.8, square=True)\n",
        "# sns.set()\n",
        "# columns = [\"points_allowed\",\"points_for\",\"yards_allowed\",\"yards_for\"]\n",
        "# sns.pairplot(raiders_schedule[columns], kind='scatter', diag_kind='kde')\n",
        "# plt.show()"
      ],
      "execution_count": 0,
      "outputs": [
        {
          "output_type": "stream",
          "text": [
            "<class 'pandas.core.frame.DataFrame'>\n",
            "RangeIndex: 256 entries, 0 to 255\n",
            "Data columns (total 12 columns):\n",
            "loser                 256 non-null object\n",
            "loser_penalty_yds     256 non-null float64\n",
            "loser_points_for      256 non-null float64\n",
            "loser_top             256 non-null float64\n",
            "loser_turnovers       256 non-null float64\n",
            "loser_yards_for       256 non-null float64\n",
            "winner                256 non-null object\n",
            "winner_penalty_yds    256 non-null float64\n",
            "winner_points_for     256 non-null float64\n",
            "winner_top            256 non-null float64\n",
            "winner_turnovers      256 non-null float64\n",
            "winner_yards_for      256 non-null float64\n",
            "dtypes: float64(10), object(2)\n",
            "memory usage: 24.1+ KB\n"
          ],
          "name": "stdout"
        }
      ]
    },
    {
      "metadata": {
        "id": "0YsQKmAvz8B5",
        "colab_type": "code",
        "outputId": "57a49aea-2e99-4805-a615-4dda41a19d41",
        "colab": {
          "base_uri": "https://localhost:8080/",
          "height": 304
        }
      },
      "cell_type": "code",
      "source": [
        "data.describe()"
      ],
      "execution_count": 0,
      "outputs": [
        {
          "output_type": "execute_result",
          "data": {
            "text/html": [
              "<div>\n",
              "<style scoped>\n",
              "    .dataframe tbody tr th:only-of-type {\n",
              "        vertical-align: middle;\n",
              "    }\n",
              "\n",
              "    .dataframe tbody tr th {\n",
              "        vertical-align: top;\n",
              "    }\n",
              "\n",
              "    .dataframe thead th {\n",
              "        text-align: right;\n",
              "    }\n",
              "</style>\n",
              "<table border=\"1\" class=\"dataframe\">\n",
              "  <thead>\n",
              "    <tr style=\"text-align: right;\">\n",
              "      <th></th>\n",
              "      <th>loser_penalty_yds</th>\n",
              "      <th>loser_points_for</th>\n",
              "      <th>loser_top</th>\n",
              "      <th>loser_turnovers</th>\n",
              "      <th>loser_yards_for</th>\n",
              "      <th>winner_penalty_yds</th>\n",
              "      <th>winner_points_for</th>\n",
              "      <th>winner_top</th>\n",
              "      <th>winner_turnovers</th>\n",
              "      <th>winner_yards_for</th>\n",
              "    </tr>\n",
              "  </thead>\n",
              "  <tbody>\n",
              "    <tr>\n",
              "      <th>count</th>\n",
              "      <td>256.000000</td>\n",
              "      <td>256.000000</td>\n",
              "      <td>256.00000</td>\n",
              "      <td>256.000000</td>\n",
              "      <td>256.000000</td>\n",
              "      <td>256.000000</td>\n",
              "      <td>256.000000</td>\n",
              "      <td>256.000000</td>\n",
              "      <td>256.000000</td>\n",
              "      <td>256.000000</td>\n",
              "    </tr>\n",
              "    <tr>\n",
              "      <th>mean</th>\n",
              "      <td>59.593750</td>\n",
              "      <td>17.796875</td>\n",
              "      <td>1724.40625</td>\n",
              "      <td>1.804688</td>\n",
              "      <td>326.757812</td>\n",
              "      <td>55.339844</td>\n",
              "      <td>28.890625</td>\n",
              "      <td>1905.070312</td>\n",
              "      <td>0.914062</td>\n",
              "      <td>377.687500</td>\n",
              "    </tr>\n",
              "    <tr>\n",
              "      <th>std</th>\n",
              "      <td>31.091122</td>\n",
              "      <td>8.840956</td>\n",
              "      <td>239.86738</td>\n",
              "      <td>1.259060</td>\n",
              "      <td>91.434000</td>\n",
              "      <td>26.634007</td>\n",
              "      <td>8.592048</td>\n",
              "      <td>247.069624</td>\n",
              "      <td>0.986396</td>\n",
              "      <td>77.847387</td>\n",
              "    </tr>\n",
              "    <tr>\n",
              "      <th>min</th>\n",
              "      <td>0.000000</td>\n",
              "      <td>0.000000</td>\n",
              "      <td>1001.00000</td>\n",
              "      <td>0.000000</td>\n",
              "      <td>89.000000</td>\n",
              "      <td>0.000000</td>\n",
              "      <td>6.000000</td>\n",
              "      <td>1188.000000</td>\n",
              "      <td>0.000000</td>\n",
              "      <td>168.000000</td>\n",
              "    </tr>\n",
              "    <tr>\n",
              "      <th>25%</th>\n",
              "      <td>38.000000</td>\n",
              "      <td>12.000000</td>\n",
              "      <td>1550.75000</td>\n",
              "      <td>1.000000</td>\n",
              "      <td>265.000000</td>\n",
              "      <td>35.750000</td>\n",
              "      <td>23.000000</td>\n",
              "      <td>1729.500000</td>\n",
              "      <td>0.000000</td>\n",
              "      <td>325.000000</td>\n",
              "    </tr>\n",
              "    <tr>\n",
              "      <th>50%</th>\n",
              "      <td>54.000000</td>\n",
              "      <td>17.000000</td>\n",
              "      <td>1731.50000</td>\n",
              "      <td>2.000000</td>\n",
              "      <td>323.000000</td>\n",
              "      <td>52.000000</td>\n",
              "      <td>27.000000</td>\n",
              "      <td>1909.500000</td>\n",
              "      <td>1.000000</td>\n",
              "      <td>377.000000</td>\n",
              "    </tr>\n",
              "    <tr>\n",
              "      <th>75%</th>\n",
              "      <td>76.250000</td>\n",
              "      <td>23.000000</td>\n",
              "      <td>1891.25000</td>\n",
              "      <td>3.000000</td>\n",
              "      <td>391.250000</td>\n",
              "      <td>70.000000</td>\n",
              "      <td>34.000000</td>\n",
              "      <td>2077.000000</td>\n",
              "      <td>1.000000</td>\n",
              "      <td>427.000000</td>\n",
              "    </tr>\n",
              "    <tr>\n",
              "      <th>max</th>\n",
              "      <td>172.000000</td>\n",
              "      <td>51.000000</td>\n",
              "      <td>2412.00000</td>\n",
              "      <td>5.000000</td>\n",
              "      <td>576.000000</td>\n",
              "      <td>155.000000</td>\n",
              "      <td>54.000000</td>\n",
              "      <td>2733.000000</td>\n",
              "      <td>6.000000</td>\n",
              "      <td>576.000000</td>\n",
              "    </tr>\n",
              "  </tbody>\n",
              "</table>\n",
              "</div>"
            ],
            "text/plain": [
              "       loser_penalty_yds  loser_points_for   loser_top  loser_turnovers  \\\n",
              "count         256.000000        256.000000   256.00000       256.000000   \n",
              "mean           59.593750         17.796875  1724.40625         1.804688   \n",
              "std            31.091122          8.840956   239.86738         1.259060   \n",
              "min             0.000000          0.000000  1001.00000         0.000000   \n",
              "25%            38.000000         12.000000  1550.75000         1.000000   \n",
              "50%            54.000000         17.000000  1731.50000         2.000000   \n",
              "75%            76.250000         23.000000  1891.25000         3.000000   \n",
              "max           172.000000         51.000000  2412.00000         5.000000   \n",
              "\n",
              "       loser_yards_for  winner_penalty_yds  winner_points_for   winner_top  \\\n",
              "count       256.000000          256.000000         256.000000   256.000000   \n",
              "mean        326.757812           55.339844          28.890625  1905.070312   \n",
              "std          91.434000           26.634007           8.592048   247.069624   \n",
              "min          89.000000            0.000000           6.000000  1188.000000   \n",
              "25%         265.000000           35.750000          23.000000  1729.500000   \n",
              "50%         323.000000           52.000000          27.000000  1909.500000   \n",
              "75%         391.250000           70.000000          34.000000  2077.000000   \n",
              "max         576.000000          155.000000          54.000000  2733.000000   \n",
              "\n",
              "       winner_turnovers  winner_yards_for  \n",
              "count        256.000000        256.000000  \n",
              "mean           0.914062        377.687500  \n",
              "std            0.986396         77.847387  \n",
              "min            0.000000        168.000000  \n",
              "25%            0.000000        325.000000  \n",
              "50%            1.000000        377.000000  \n",
              "75%            1.000000        427.000000  \n",
              "max            6.000000        576.000000  "
            ]
          },
          "metadata": {
            "tags": []
          },
          "execution_count": 2
        }
      ]
    },
    {
      "metadata": {
        "id": "qX9oT3qQynYD",
        "colab_type": "code",
        "outputId": "e3ecd5a4-ffea-4bb3-e1b8-b475a402bbf3",
        "colab": {
          "base_uri": "https://localhost:8080/",
          "height": 34
        }
      },
      "cell_type": "code",
      "source": [
        "data.shape"
      ],
      "execution_count": 0,
      "outputs": [
        {
          "output_type": "execute_result",
          "data": {
            "text/plain": [
              "(256, 12)"
            ]
          },
          "metadata": {
            "tags": []
          },
          "execution_count": 2
        }
      ]
    },
    {
      "metadata": {
        "id": "ZfrlLZMAmI06",
        "colab_type": "code",
        "outputId": "05d2730d-696c-49f5-bf09-91bee9463b18",
        "colab": {
          "base_uri": "https://localhost:8080/",
          "height": 633
        }
      },
      "cell_type": "code",
      "source": [
        "# Correlation Matrix\n",
        "corrmat = data.corr()\n",
        "f, ax = plt.subplots(figsize=(12, 9))\n",
        "sns.heatmap(corrmat, vmax=0.8, square=True)"
      ],
      "execution_count": 0,
      "outputs": [
        {
          "output_type": "execute_result",
          "data": {
            "text/plain": [
              "<matplotlib.axes._subplots.AxesSubplot at 0x7f29e8eb0f28>"
            ]
          },
          "metadata": {
            "tags": []
          },
          "execution_count": 3
        },
        {
          "output_type": "display_data",
          "data": {
            "image/png": "[encoded data removed]",
            "text/plain": [
              "<Figure size 864x648 with 2 Axes>"
            ]
          },
          "metadata": {
            "tags": []
          }
        }
      ]
    },
    {
      "metadata": {
        "id": "02SbLYzvuRYQ",
        "colab_type": "code",
        "colab": {}
      },
      "cell_type": "code",
      "source": [
        "data = data.drop(columns=['winner'])\n",
        "data = data.drop(columns=['loser'])"
      ],
      "execution_count": 0,
      "outputs": []
    },
    {
      "metadata": {
        "id": "m4hNIhDidVtT",
        "colab_type": "text"
      },
      "cell_type": "markdown",
      "source": [
        "\n",
        "\n",
        "```\n",
        "Random Forest Stuff``` Winner\n",
        "\n"
      ]
    },
    {
      "metadata": {
        "id": "gd_xlLsHvLeH",
        "colab_type": "code",
        "colab": {}
      },
      "cell_type": "code",
      "source": [
        "#Isolating winner_points_for from the rest of the columns\n",
        "one = data.columns.tolist()[0:6]\n",
        "two = data.columns.tolist()[7:]\n",
        "#three = data.columns.tolist()[2:5]\n",
        "cols = one + two\n",
        "X = data[cols]\n",
        "y = data['winner_points_for']  \n",
        "\n",
        "# This library will help us randomly split our data into training and test sets.\n",
        "from sklearn.model_selection import train_test_split\n",
        "X_train, X_test, y_train, y_test = train_test_split(X, y, test_size = 0.2, random_state=2)"
      ],
      "execution_count": 0,
      "outputs": []
    },
    {
      "metadata": {
        "id": "6splMpESP019",
        "colab_type": "code",
        "outputId": "1ba1b5f4-ba80-4ce3-ee11-69bd917a3d99",
        "colab": {
          "base_uri": "https://localhost:8080/",
          "height": 185
        }
      },
      "cell_type": "code",
      "source": [
        "labels = np.array(data['winner_points_for'])\n",
        "\n",
        "features= data.drop('winner_points_for', axis = 1)\n",
        "\n",
        "\n",
        "# Saving feature names for later use\n",
        "feature_list = list(data.columns)\n",
        "for i in range(len(feature_list)):\n",
        "  print (feature_list[i])\n",
        "# Convert to numpy array\n",
        "features = np.array(data)"
      ],
      "execution_count": 0,
      "outputs": [
        {
          "output_type": "stream",
          "text": [
            "loser_penalty_yds\n",
            "loser_points_for\n",
            "loser_top\n",
            "loser_turnovers\n",
            "loser_yards_for\n",
            "winner_penalty_yds\n",
            "winner_points_for\n",
            "winner_top\n",
            "winner_turnovers\n",
            "winner_yards_for\n"
          ],
          "name": "stdout"
        }
      ]
    },
    {
      "metadata": {
        "id": "hia-COr2MBOz",
        "colab_type": "code",
        "outputId": "12409876-79eb-4210-edc9-98742984279b",
        "colab": {
          "base_uri": "https://localhost:8080/",
          "height": 84
        }
      },
      "cell_type": "code",
      "source": [
        "print('Training Features Shape:', X_train.shape)\n",
        "print('Training Labels Shape:', y_train.shape)\n",
        "print('Testing Features Shape:', X_test.shape)\n",
        "print('Testing Labels Shape:', y_test.shape)"
      ],
      "execution_count": 0,
      "outputs": [
        {
          "output_type": "stream",
          "text": [
            "Training Features Shape: (204, 9)\n",
            "Training Labels Shape: (204,)\n",
            "Testing Features Shape: (52, 9)\n",
            "Testing Labels Shape: (52,)\n"
          ],
          "name": "stdout"
        }
      ]
    },
    {
      "metadata": {
        "id": "y0Pu7po1Z8Ik",
        "colab_type": "code",
        "outputId": "79d7db5b-7049-48e9-c3d2-a8668aa7a1ea",
        "colab": {
          "base_uri": "https://localhost:8080/",
          "height": 50
        }
      },
      "cell_type": "code",
      "source": [
        "# Import the model we are using\n",
        "from sklearn.ensemble import RandomForestRegressor\n",
        "# Instantiate model with 1000 decision trees\n",
        "rf = RandomForestRegressor(n_estimators = 10000, random_state = 300)\n",
        "# Train the model on training data\n",
        "rf.fit(X_train, y_train);\n",
        "\n",
        "print('Training set R^2 =', rf.score(X_train, y_train))\n",
        "print('Test set R^2 =', rf.score(X_test, y_test))"
      ],
      "execution_count": 0,
      "outputs": [
        {
          "output_type": "stream",
          "text": [
            "Training set R^2 = 0.9161430128639565\n",
            "Test set R^2 = 0.49497937770139766\n"
          ],
          "name": "stdout"
        }
      ]
    },
    {
      "metadata": {
        "id": "gTTs9D2Hasol",
        "colab_type": "code",
        "colab": {}
      },
      "cell_type": "code",
      "source": [
        "# Import tools needed for visualization\n",
        "from sklearn.tree import export_graphviz\n",
        "import pydot\n",
        "# Pull out one tree from the forest\n",
        "tree = rf.estimators_[5]\n",
        "# Import tools needed for visualization\n",
        "from sklearn.tree import export_graphviz\n",
        "import pydot\n",
        "# Pull out one tree from the forest\n",
        "tree = rf.estimators_[5]\n",
        "# Export the image to a dot file\n",
        "export_graphviz(tree, out_file = 'tree.dot', feature_names = feature_list.remove('winner_points_for'), rounded = True, precision = 1)\n",
        "# Use dot file to create a graph\n",
        "(graph, ) = pydot.graph_from_dot_file('tree.dot')\n",
        "# Write graph to a png file\n",
        "graph.write_png('tree.png')"
      ],
      "execution_count": 0,
      "outputs": []
    },
    {
      "metadata": {
        "id": "hwmWuJJiciJQ",
        "colab_type": "code",
        "colab": {}
      },
      "cell_type": "code",
      "source": [
        "# Limit depth of tree to 3 levels\n",
        "rf_small = RandomForestRegressor(n_estimators=10, max_depth = 3)\n",
        "rf_small.fit(X_train, y_train)\n",
        "# Extract the small tree\n",
        "tree_small = rf_small.estimators_[5]\n",
        "# Save the tree as a png image\n",
        "export_graphviz(tree_small, out_file = 'small_tree.dot', feature_names = feature_list, rounded = True, precision = 1)\n",
        "(graph, ) = pydot.graph_from_dot_file('small_tree.dot')\n",
        "graph.write_png('small_tree.png');"
      ],
      "execution_count": 0,
      "outputs": []
    },
    {
      "metadata": {
        "id": "-XmX-OMzlnET",
        "colab_type": "code",
        "outputId": "fe6573e8-3e6e-4b56-9eba-32f52739bb63",
        "colab": {
          "base_uri": "https://localhost:8080/",
          "height": 168
        }
      },
      "cell_type": "code",
      "source": [
        "# Get numerical feature importances\n",
        "importances = list(rf.feature_importances_)\n",
        "# List of tuples with variable and importance\n",
        "feature_importances = [(feature, round(importance, 2)) for feature, importance in zip(feature_list, importances)]\n",
        "# Sort the feature importances by most important first\n",
        "feature_importances = sorted(feature_importances, key = lambda x: x[1], reverse = True)\n",
        "# Print out the feature and importances \n",
        "[print('Variable: {:20} Importance: {}'.format(*pair)) for pair in feature_importances];"
      ],
      "execution_count": 0,
      "outputs": [
        {
          "output_type": "stream",
          "text": [
            "Variable: winner_yards_for     Importance: 0.36\n",
            "Variable: loser_points_for     Importance: 0.17\n",
            "Variable: loser_turnovers      Importance: 0.09\n",
            "Variable: loser_yards_for      Importance: 0.09\n",
            "Variable: loser_penalty_yds    Importance: 0.07\n",
            "Variable: winner_penalty_yds   Importance: 0.07\n",
            "Variable: loser_top            Importance: 0.05\n",
            "Variable: winner_top           Importance: 0.05\n",
            "Variable: winner_turnovers     Importance: 0.05\n"
          ],
          "name": "stdout"
        }
      ]
    },
    {
      "metadata": {
        "id": "l1ywzG0JlwdR",
        "colab_type": "code",
        "outputId": "0a1b9722-0194-4b2e-8a19-760ab3c6b1db",
        "colab": {
          "base_uri": "https://localhost:8080/",
          "height": 400
        }
      },
      "cell_type": "code",
      "source": [
        "# Import matplotlib for plotting and use magic command for Jupyter Notebooks\n",
        "import matplotlib.pyplot as plt\n",
        "%matplotlib inline\n",
        "# Set the style\n",
        "plt.style.use('fivethirtyeight')\n",
        "# list of x locations for plotting\n",
        "x_values = list(range(len(importances)))\n",
        "# Make a bar chart\n",
        "plt.bar(x_values, importances, orientation = 'vertical')\n",
        "# Tick labels for x axis\n",
        "plt.xticks(x_values, feature_list, rotation='vertical')\n",
        "# Axis labels and title\n",
        "plt.ylabel('Importance'); plt.xlabel('Stats'); plt.title('Winner Importances');"
      ],
      "execution_count": 0,
      "outputs": [
        {
          "output_type": "display_data",
          "data": {
            "image/png": "[encoded data removed]",
            "text/plain": [
              "<Figure size 432x288 with 1 Axes>"
            ]
          },
          "metadata": {
            "tags": []
          }
        }
      ]
    },
    {
      "metadata": {
        "id": "nfmb_uVqdd4x",
        "colab_type": "text"
      },
      "cell_type": "markdown",
      "source": [
        "End of Random Forest"
      ]
    },
    {
      "metadata": {
        "id": "VBOLsux-gJVI",
        "colab_type": "text"
      },
      "cell_type": "markdown",
      "source": [
        "RandomForest Loser points for"
      ]
    },
    {
      "metadata": {
        "id": "Z6k2MNa8mEtc",
        "colab_type": "code",
        "outputId": "9f5785f7-7073-49df-c332-4d0a1a421588",
        "colab": {
          "base_uri": "https://localhost:8080/",
          "height": 185
        }
      },
      "cell_type": "code",
      "source": [
        "#Isolating winner_points_for from the rest of the columns\n",
        "one = data.columns.tolist()[0:1]\n",
        "two = data.columns.tolist()[2:]\n",
        "#three = data.columns.tolist()[2:5]\n",
        "cols = one + two\n",
        "X = data[cols]\n",
        "y = data['loser_points_for']  \n",
        "\n",
        "# This library will help us randomly split our data into training and test sets.\n",
        "from sklearn.model_selection import train_test_split\n",
        "X_train, X_test, y_train, y_test = train_test_split(X, y, test_size = 0.2, random_state=2)\n",
        "\n",
        "labels = np.array(data['loser_points_for'])\n",
        "\n",
        "features= data.drop('loser_points_for', axis = 1)\n",
        "# Saving feature names for later use\n",
        "feature_list = list(data.columns)\n",
        "for i in range(len(feature_list)):\n",
        "  print (feature_list[i])\n",
        "# Convert to numpy array\n",
        "features = np.array(data)"
      ],
      "execution_count": 0,
      "outputs": [
        {
          "output_type": "stream",
          "text": [
            "loser_penalty_yds\n",
            "loser_points_for\n",
            "loser_top\n",
            "loser_turnovers\n",
            "loser_yards_for\n",
            "winner_penalty_yds\n",
            "winner_points_for\n",
            "winner_top\n",
            "winner_turnovers\n",
            "winner_yards_for\n"
          ],
          "name": "stdout"
        }
      ]
    },
    {
      "metadata": {
        "id": "0iVQFQMvgxag",
        "colab_type": "code",
        "outputId": "a349d76d-deef-49d7-c2b8-85e6be4b9314",
        "colab": {
          "base_uri": "https://localhost:8080/",
          "height": 84
        }
      },
      "cell_type": "code",
      "source": [
        "print('Training Features Shape:', X_train.shape)\n",
        "print('Training Labels Shape:', y_train.shape)\n",
        "print('Testing Features Shape:', X_test.shape)\n",
        "print('Testing Labels Shape:', y_test.shape)"
      ],
      "execution_count": 0,
      "outputs": [
        {
          "output_type": "stream",
          "text": [
            "Training Features Shape: (204, 9)\n",
            "Training Labels Shape: (204,)\n",
            "Testing Features Shape: (52, 9)\n",
            "Testing Labels Shape: (52,)\n"
          ],
          "name": "stdout"
        }
      ]
    },
    {
      "metadata": {
        "id": "w3dwPvKJg7BC",
        "colab_type": "code",
        "outputId": "90d2b902-29f0-4005-8b18-dbf3a798d966",
        "colab": {
          "base_uri": "https://localhost:8080/",
          "height": 50
        }
      },
      "cell_type": "code",
      "source": [
        "# Import the model we are using\n",
        "from sklearn.ensemble import RandomForestRegressor\n",
        "# Instantiate model with 1000 decision trees\n",
        "rf = RandomForestRegressor(n_estimators = 1000, random_state = 42)\n",
        "# Train the model on training data\n",
        "rf.fit(X_train, y_train);\n",
        "\n",
        "print('Training set R^2 =', rf.score(X_train, y_train))\n",
        "print('Test set R^2 =', rf.score(X_test, y_test))"
      ],
      "execution_count": 0,
      "outputs": [
        {
          "output_type": "stream",
          "text": [
            "Training set R^2 = 0.9389988735639693\n",
            "Test set R^2 = 0.5768919033562687\n"
          ],
          "name": "stdout"
        }
      ]
    },
    {
      "metadata": {
        "id": "xKOvUqcohQNN",
        "colab_type": "code",
        "colab": {}
      },
      "cell_type": "code",
      "source": [
        "# Import tools needed for visualization\n",
        "from sklearn.tree import export_graphviz\n",
        "import pydot\n",
        "# Pull out one tree from the forest\n",
        "tree = rf.estimators_[5]\n",
        "# Import tools needed for visualization\n",
        "from sklearn.tree import export_graphviz\n",
        "import pydot\n",
        "# Pull out one tree from the forest\n",
        "tree = rf.estimators_[5]\n",
        "# Export the image to a dot file\n",
        "export_graphviz(tree, out_file = 'tree.dot', feature_names = feature_list.remove('loser_points_for'), rounded = True, precision = 1)\n",
        "# Use dot file to create a graph\n",
        "(graph, ) = pydot.graph_from_dot_file('tree.dot')\n",
        "# Write graph to a png file\n",
        "graph.write_png('loser.png')"
      ],
      "execution_count": 0,
      "outputs": []
    },
    {
      "metadata": {
        "id": "P1M7-JKxhZ7q",
        "colab_type": "code",
        "colab": {}
      },
      "cell_type": "code",
      "source": [
        "# Limit depth of tree to 3 levels\n",
        "rf_small = RandomForestRegressor(n_estimators=10, max_depth = 3)\n",
        "rf_small.fit(X_train, y_train)\n",
        "# Extract the small tree\n",
        "tree_small = rf_small.estimators_[5]\n",
        "# Save the tree as a png image\n",
        "export_graphviz(tree_small, out_file = 'small_tree.dot', feature_names = feature_list, rounded = True, precision = 1)\n",
        "(graph, ) = pydot.graph_from_dot_file('small_tree.dot')\n",
        "graph.write_png('loser_small_tree.png');"
      ],
      "execution_count": 0,
      "outputs": []
    },
    {
      "metadata": {
        "id": "bXQvsJ4ZhhC6",
        "colab_type": "code",
        "outputId": "efbba860-1b10-42f9-a91e-f554c25b4ba7",
        "colab": {
          "base_uri": "https://localhost:8080/",
          "height": 168
        }
      },
      "cell_type": "code",
      "source": [
        "# Get numerical feature importances\n",
        "importances = list(rf.feature_importances_)\n",
        "# List of tuples with variable and importance\n",
        "feature_importances = [(feature, round(importance, 2)) for feature, importance in zip(feature_list, importances)]\n",
        "# Sort the feature importances by most important first\n",
        "feature_importances = sorted(feature_importances, key = lambda x: x[1], reverse = True)\n",
        "# Print out the feature and importances \n",
        "[print('Variable: {:20} Importance: {}'.format(*pair)) for pair in feature_importances];"
      ],
      "execution_count": 0,
      "outputs": [
        {
          "output_type": "stream",
          "text": [
            "Variable: loser_yards_for      Importance: 0.53\n",
            "Variable: winner_points_for    Importance: 0.2\n",
            "Variable: winner_yards_for     Importance: 0.07\n",
            "Variable: loser_penalty_yds    Importance: 0.05\n",
            "Variable: winner_penalty_yds   Importance: 0.04\n",
            "Variable: winner_top           Importance: 0.04\n",
            "Variable: loser_top            Importance: 0.03\n",
            "Variable: loser_turnovers      Importance: 0.03\n",
            "Variable: winner_turnovers     Importance: 0.02\n"
          ],
          "name": "stdout"
        }
      ]
    },
    {
      "metadata": {
        "id": "3SDEO670hl2H",
        "colab_type": "code",
        "outputId": "394ddd3d-28e0-450a-a217-4ad4fa9b8c29",
        "colab": {
          "base_uri": "https://localhost:8080/",
          "height": 400
        }
      },
      "cell_type": "code",
      "source": [
        "# Import matplotlib for plotting and use magic command for Jupyter Notebooks\n",
        "import matplotlib.pyplot as plt\n",
        "%matplotlib inline\n",
        "# Set the style\n",
        "plt.style.use('fivethirtyeight')\n",
        "# list of x locations for plotting\n",
        "x_values = list(range(len(importances)))\n",
        "# Make a bar chart\n",
        "plt.bar(x_values, importances, orientation = 'vertical')\n",
        "# Tick labels for x axis\n",
        "plt.xticks(x_values, feature_list, rotation='vertical')\n",
        "# Axis labels and title\n",
        "plt.ylabel('Importance'); plt.xlabel('Stats'); plt.title('Loser Importances');"
      ],
      "execution_count": 0,
      "outputs": [
        {
          "output_type": "display_data",
          "data": {
            "image/png": "[encoded data removed]",
            "text/plain": [
              "<Figure size 432x288 with 1 Axes>"
            ]
          },
          "metadata": {
            "tags": []
          }
        }
      ]
    },
    {
      "metadata": {
        "id": "cO_1hABcgmiz",
        "colab_type": "text"
      },
      "cell_type": "markdown",
      "source": [
        "End of random Forest"
      ]
    },
    {
      "metadata": {
        "id": "fGw3fXxDvf7w",
        "colab_type": "code",
        "outputId": "84ac30bc-f40a-4283-f4e5-8c48e93d7ae8",
        "colab": {
          "base_uri": "https://localhost:8080/",
          "height": 215
        }
      },
      "cell_type": "code",
      "source": [
        "# X holds the data we'll use to predict the labels y.\n",
        "X_train.head()"
      ],
      "execution_count": 0,
      "outputs": [
        {
          "output_type": "execute_result",
          "data": {
            "text/html": [
              "<div>\n",
              "<style scoped>\n",
              "    .dataframe tbody tr th:only-of-type {\n",
              "        vertical-align: middle;\n",
              "    }\n",
              "\n",
              "    .dataframe tbody tr th {\n",
              "        vertical-align: top;\n",
              "    }\n",
              "\n",
              "    .dataframe thead th {\n",
              "        text-align: right;\n",
              "    }\n",
              "</style>\n",
              "<table border=\"1\" class=\"dataframe\">\n",
              "  <thead>\n",
              "    <tr style=\"text-align: right;\">\n",
              "      <th></th>\n",
              "      <th>loser_penalty_yds</th>\n",
              "      <th>loser_points_for</th>\n",
              "      <th>loser_top</th>\n",
              "      <th>loser_turnovers</th>\n",
              "      <th>loser_yards_for</th>\n",
              "      <th>winner_penalty_yds</th>\n",
              "      <th>winner_top</th>\n",
              "      <th>winner_turnovers</th>\n",
              "      <th>winner_yards_for</th>\n",
              "    </tr>\n",
              "  </thead>\n",
              "  <tbody>\n",
              "    <tr>\n",
              "      <th>215</th>\n",
              "      <td>90.0</td>\n",
              "      <td>13.0</td>\n",
              "      <td>1601.0</td>\n",
              "      <td>0.0</td>\n",
              "      <td>313.0</td>\n",
              "      <td>85.0</td>\n",
              "      <td>1999.0</td>\n",
              "      <td>0.0</td>\n",
              "      <td>312.0</td>\n",
              "    </tr>\n",
              "    <tr>\n",
              "      <th>99</th>\n",
              "      <td>59.0</td>\n",
              "      <td>23.0</td>\n",
              "      <td>1601.0</td>\n",
              "      <td>1.0</td>\n",
              "      <td>305.0</td>\n",
              "      <td>35.0</td>\n",
              "      <td>1999.0</td>\n",
              "      <td>4.0</td>\n",
              "      <td>456.0</td>\n",
              "    </tr>\n",
              "    <tr>\n",
              "      <th>25</th>\n",
              "      <td>43.0</td>\n",
              "      <td>12.0</td>\n",
              "      <td>1639.0</td>\n",
              "      <td>3.0</td>\n",
              "      <td>362.0</td>\n",
              "      <td>53.0</td>\n",
              "      <td>1961.0</td>\n",
              "      <td>2.0</td>\n",
              "      <td>257.0</td>\n",
              "    </tr>\n",
              "    <tr>\n",
              "      <th>84</th>\n",
              "      <td>30.0</td>\n",
              "      <td>3.0</td>\n",
              "      <td>1504.0</td>\n",
              "      <td>2.0</td>\n",
              "      <td>185.0</td>\n",
              "      <td>69.0</td>\n",
              "      <td>2096.0</td>\n",
              "      <td>1.0</td>\n",
              "      <td>369.0</td>\n",
              "    </tr>\n",
              "    <tr>\n",
              "      <th>93</th>\n",
              "      <td>45.0</td>\n",
              "      <td>10.0</td>\n",
              "      <td>1751.0</td>\n",
              "      <td>5.0</td>\n",
              "      <td>223.0</td>\n",
              "      <td>50.0</td>\n",
              "      <td>1849.0</td>\n",
              "      <td>1.0</td>\n",
              "      <td>309.0</td>\n",
              "    </tr>\n",
              "  </tbody>\n",
              "</table>\n",
              "</div>"
            ],
            "text/plain": [
              "     loser_penalty_yds  loser_points_for  loser_top  loser_turnovers  \\\n",
              "215               90.0              13.0     1601.0              0.0   \n",
              "99                59.0              23.0     1601.0              1.0   \n",
              "25                43.0              12.0     1639.0              3.0   \n",
              "84                30.0               3.0     1504.0              2.0   \n",
              "93                45.0              10.0     1751.0              5.0   \n",
              "\n",
              "     loser_yards_for  winner_penalty_yds  winner_top  winner_turnovers  \\\n",
              "215            313.0                85.0      1999.0               0.0   \n",
              "99             305.0                35.0      1999.0               4.0   \n",
              "25             362.0                53.0      1961.0               2.0   \n",
              "84             185.0                69.0      2096.0               1.0   \n",
              "93             223.0                50.0      1849.0               1.0   \n",
              "\n",
              "     winner_yards_for  \n",
              "215             312.0  \n",
              "99              456.0  \n",
              "25              257.0  \n",
              "84              369.0  \n",
              "93              309.0  "
            ]
          },
          "metadata": {
            "tags": []
          },
          "execution_count": 10
        }
      ]
    },
    {
      "metadata": {
        "id": "4iU6rw3fywp4",
        "colab_type": "code",
        "outputId": "7d0f0fc5-3a78-4d1b-9177-b8fae4ce4ea6",
        "colab": {
          "base_uri": "https://localhost:8080/",
          "height": 118
        }
      },
      "cell_type": "code",
      "source": [
        "# y holds the corresponding labels.\n",
        "y_train.head()"
      ],
      "execution_count": 0,
      "outputs": [
        {
          "output_type": "execute_result",
          "data": {
            "text/plain": [
              "215    14.0\n",
              "99     26.0\n",
              "25     20.0\n",
              "84     27.0\n",
              "93     45.0\n",
              "Name: winner_points_for, dtype: float64"
            ]
          },
          "metadata": {
            "tags": []
          },
          "execution_count": 11
        }
      ]
    },
    {
      "metadata": {
        "id": "0P4a2B37zh_9",
        "colab_type": "text"
      },
      "cell_type": "markdown",
      "source": [
        "**Oof**"
      ]
    },
    {
      "metadata": {
        "id": "8k4kC4-Cy8Ny",
        "colab_type": "code",
        "outputId": "9a803c27-25ec-449c-b42c-bfe732ea4fc0",
        "colab": {
          "base_uri": "https://localhost:8080/",
          "height": 50
        }
      },
      "cell_type": "code",
      "source": [
        "from sklearn import linear_model\n",
        "\n",
        "# This next line defines a linear model that still must be fit to our training data.\n",
        "lm = linear_model.LinearRegression()\n",
        "# Fitting our data to the model is now easy!\n",
        "model = lm.fit(X_train, y_train)\n",
        "\n",
        "# Let's examine this model.\n",
        "\n",
        "# How well does our model predict the known labels in our training and test sets?\n",
        "print('Training set R^2 =', lm.score(X_train, y_train))\n",
        "print('Test set R^2 =', lm.score(X_test, y_test))"
      ],
      "execution_count": 0,
      "outputs": [
        {
          "output_type": "stream",
          "text": [
            "Training set R^2 = 0.5099422379427512\n",
            "Test set R^2 = 0.5123189012234735\n"
          ],
          "name": "stdout"
        }
      ]
    },
    {
      "metadata": {
        "id": "b8g3iY2rjDMC",
        "colab_type": "text"
      },
      "cell_type": "markdown",
      "source": [
        "New Stuff Rob Made"
      ]
    },
    {
      "metadata": {
        "id": "WdlfYFpHi5fE",
        "colab_type": "code",
        "colab": {}
      },
      "cell_type": "code",
      "source": [
        "import pickle\n",
        "import numpy as np         # linear algebra\n",
        "import sklearn as sk       # machine learning\n",
        "from sklearn import linear_model\n",
        "from sklearn.metrics import mean_squared_error, r2_score\n",
        "from sklearn import preprocessing  # for standardizing the data\n",
        "import pandas as pd\n",
        "import seaborn as sns      # visualization tool\n",
        "import matplotlib.pyplot as plt   # for plotting\n",
        "import seaborn as sns      # visualization tool\n",
        "import tensorflow as tf    # for creating neural networks\n",
        "from tensorflow import keras   # an easier interface to work with than tensorflow\n",
        "import matplotlib.pyplot as plt\n",
        "from keras.utils import plot_model\n",
        "\n",
        "#plot_model(model, to_file='model.png')\n",
        "\n",
        "def openAllTeamsFromSeason(season):\n",
        "    with open(\"/teams\" + str(season) + \".pickle\", 'rb') as handle:\n",
        "        data = pickle.load(handle)\n",
        "        return data\n",
        "\n",
        "def openTeamFromSeason(team,season):\n",
        "    with open(\"/teams\" + str(season) + \".pickle\", 'rb') as handle:\n",
        "        data = pickle.load(handle)\n",
        "        return data[team]\n",
        "\n",
        "def openSeason(season):\n",
        "    with open(\"/season\" + str(season) + \".pickle\", 'rb') as handle:\n",
        "        data = pickle.load(handle)\n",
        "        return data\n",
        "      \n",
        "def allStats(team):\n",
        "    return list(team.values())\n",
        "      \n",
        "def getStat(team,stat):\n",
        "    return float(team[stat])\n",
        "      \n",
        "def calculate(team):\n",
        "    #['g', 'points', 'total_yards', 'plays_offense', 'yds_per_play_offense',\n",
        "    #'turnovers', 'fumbles_lost', 'first_down', 'pass_cmp', 'pass_att', 'pass_yds',\n",
        "    #'pass_td', 'pass_int', 'pass_net_yds_per_att', 'pass_fd', 'rush_att', 'rush_yds',\n",
        "    # 'rush_td', 'rush_yds_per_att', 'rush_fd', 'penalties', 'penalties_yds', 'pen_fd',\n",
        "    #'score_pct', 'turnover_pct', 'exp_pts_tot'])\n",
        "    exp = float(team[\"exp_pts_tot\"])\n",
        "    return exp      \n",
        "\n",
        "Dense = keras.layers.Dense\n",
        "Activation = keras.layers.Activation\n",
        "to_categorical = keras.utils.to_categorical\n",
        "Sequential = keras.Sequential\n",
        "# scrape.scrapeWeeklyResults()\n",
        "\n",
        "full_table = []\n",
        "x_train = []\n",
        "y_train = []\n",
        "x_test = []\n",
        "y_test = []\n",
        "\n",
        "for i in range(2000,2019):\n",
        "    teams_for_year = openAllTeamsFromSeason(i)\n",
        "    head_to_head = openSeason(i)\n",
        "    for game in head_to_head:\n",
        "        winner = teams_for_year[game[0]]\n",
        "        loser = teams_for_year[game[1]]\n",
        "        # w_value =\n",
        "        # l_value =\n",
        "        # print(winner[\"pass_net_yds_per_att\"],loser[\"pass_net_yds_per_att\"])\n",
        "        if i <= 2017:\n",
        "            if game[2] == 1:\n",
        "                # AWAY WIN\n",
        "                \n",
        "                x_train.append([getStat(loser,\"exp_pts_tot\"),getStat(loser,\"yds_per_play_offense\"),getStat(winner,\"exp_pts_tot\"),getStat(winner,\"yds_per_play_offense\")])\n",
        "                y_train.append(1)\n",
        "            else:\n",
        "                 x_train.append([getStat(winner,\"exp_pts_tot\"),getStat(winner,\"yds_per_play_offense\"),getStat(loser,\"exp_pts_tot\"),getStat(loser,\"yds_per_play_offense\")])\n",
        "                 y_train.append(0)\n",
        "        else:\n",
        "            if game[2] == 1:\n",
        "                #AWAY WIN\n",
        "                 x_test.append([getStat(loser,\"exp_pts_tot\"),getStat(loser,\"yds_per_play_offense\"),getStat(winner,\"exp_pts_tot\"),getStat(winner,\"yds_per_play_offense\")])\n",
        "                 y_test.append(1)\n",
        "            else:\n",
        "                 x_test.append([getStat(winner,\"exp_pts_tot\"),getStat(winner,\"yds_per_play_offense\"),getStat(loser,\"exp_pts_tot\"),getStat(loser,\"yds_per_play_offense\")])\n",
        "                 y_test.append(0)\n",
        "        # if game[2] == 1:\n",
        "        #     # AWAY WIN\n",
        "            # y_values.append(0)\n",
        "        # else:\n",
        "\n",
        "        "
      ],
      "execution_count": 0,
      "outputs": []
    },
    {
      "metadata": {
        "id": "ZoWVYk-ejZre",
        "colab_type": "code",
        "outputId": "b137bb01-b818-4da6-a282-888743d3b5a7",
        "colab": {
          "base_uri": "https://localhost:8080/",
          "height": 518
        }
      },
      "cell_type": "code",
      "source": [
        "# Import the model we are using\n",
        "from sklearn.ensemble import RandomForestRegressor\n",
        "# Instantiate model with 1000 decision trees\n",
        "rf = RandomForestRegressor(n_estimators = 1000, random_state = 42)\n",
        "# Train the model on training data\n",
        "X_train = [204, None]\n",
        "rf.fit(X_train, y_train);\n",
        "\n",
        "print('Training set R^2 =', rf.score(X_train, y_train))\n",
        "print('Test set R^2 =', rf.score(X_test, y_test))"
      ],
      "execution_count": 0,
      "outputs": [
        {
          "output_type": "error",
          "ename": "ValueError",
          "evalue": "ignored",
          "traceback": [
            "\u001b[0;31m---------------------------------------------------------------------------\u001b[0m",
            "\u001b[0;31mValueError\u001b[0m                                Traceback (most recent call last)",
            "\u001b[0;32m<ipython-input-26-68682392ca6d>\u001b[0m in \u001b[0;36m<module>\u001b[0;34m()\u001b[0m\n\u001b[1;32m      4\u001b[0m \u001b[0;31m# Train the model on training data\u001b[0m\u001b[0;34m\u001b[0m\u001b[0;34m\u001b[0m\u001b[0;34m\u001b[0m\u001b[0m\n\u001b[1;32m      5\u001b[0m \u001b[0mX_train\u001b[0m \u001b[0;34m=\u001b[0m \u001b[0;34m[\u001b[0m\u001b[0;36m204\u001b[0m\u001b[0;34m,\u001b[0m \u001b[0;32mNone\u001b[0m\u001b[0;34m]\u001b[0m\u001b[0;34m\u001b[0m\u001b[0;34m\u001b[0m\u001b[0m\n\u001b[0;32m----> 6\u001b[0;31m \u001b[0mrf\u001b[0m\u001b[0;34m.\u001b[0m\u001b[0mfit\u001b[0m\u001b[0;34m(\u001b[0m\u001b[0mX_train\u001b[0m\u001b[0;34m,\u001b[0m \u001b[0my_train\u001b[0m\u001b[0;34m)\u001b[0m\u001b[0;34m;\u001b[0m\u001b[0;34m\u001b[0m\u001b[0;34m\u001b[0m\u001b[0m\n\u001b[0m\u001b[1;32m      7\u001b[0m \u001b[0;34m\u001b[0m\u001b[0m\n\u001b[1;32m      8\u001b[0m \u001b[0mprint\u001b[0m\u001b[0;34m(\u001b[0m\u001b[0;34m'Training set R^2 ='\u001b[0m\u001b[0;34m,\u001b[0m \u001b[0mrf\u001b[0m\u001b[0;34m.\u001b[0m\u001b[0mscore\u001b[0m\u001b[0;34m(\u001b[0m\u001b[0mX_train\u001b[0m\u001b[0;34m,\u001b[0m \u001b[0my_train\u001b[0m\u001b[0;34m)\u001b[0m\u001b[0;34m)\u001b[0m\u001b[0;34m\u001b[0m\u001b[0;34m\u001b[0m\u001b[0m\n",
            "\u001b[0;32m/usr/local/lib/python3.6/dist-packages/sklearn/ensemble/forest.py\u001b[0m in \u001b[0;36mfit\u001b[0;34m(self, X, y, sample_weight)\u001b[0m\n\u001b[1;32m    248\u001b[0m \u001b[0;34m\u001b[0m\u001b[0m\n\u001b[1;32m    249\u001b[0m         \u001b[0;31m# Validate or convert input data\u001b[0m\u001b[0;34m\u001b[0m\u001b[0;34m\u001b[0m\u001b[0;34m\u001b[0m\u001b[0m\n\u001b[0;32m--> 250\u001b[0;31m         \u001b[0mX\u001b[0m \u001b[0;34m=\u001b[0m \u001b[0mcheck_array\u001b[0m\u001b[0;34m(\u001b[0m\u001b[0mX\u001b[0m\u001b[0;34m,\u001b[0m \u001b[0maccept_sparse\u001b[0m\u001b[0;34m=\u001b[0m\u001b[0;34m\"csc\"\u001b[0m\u001b[0;34m,\u001b[0m \u001b[0mdtype\u001b[0m\u001b[0;34m=\u001b[0m\u001b[0mDTYPE\u001b[0m\u001b[0;34m)\u001b[0m\u001b[0;34m\u001b[0m\u001b[0;34m\u001b[0m\u001b[0m\n\u001b[0m\u001b[1;32m    251\u001b[0m         \u001b[0my\u001b[0m \u001b[0;34m=\u001b[0m \u001b[0mcheck_array\u001b[0m\u001b[0;34m(\u001b[0m\u001b[0my\u001b[0m\u001b[0;34m,\u001b[0m \u001b[0maccept_sparse\u001b[0m\u001b[0;34m=\u001b[0m\u001b[0;34m'csc'\u001b[0m\u001b[0;34m,\u001b[0m \u001b[0mensure_2d\u001b[0m\u001b[0;34m=\u001b[0m\u001b[0;32mFalse\u001b[0m\u001b[0;34m,\u001b[0m \u001b[0mdtype\u001b[0m\u001b[0;34m=\u001b[0m\u001b[0;32mNone\u001b[0m\u001b[0;34m)\u001b[0m\u001b[0;34m\u001b[0m\u001b[0;34m\u001b[0m\u001b[0m\n\u001b[1;32m    252\u001b[0m         \u001b[0;32mif\u001b[0m \u001b[0msample_weight\u001b[0m \u001b[0;32mis\u001b[0m \u001b[0;32mnot\u001b[0m \u001b[0;32mNone\u001b[0m\u001b[0;34m:\u001b[0m\u001b[0;34m\u001b[0m\u001b[0;34m\u001b[0m\u001b[0m\n",
            "\u001b[0;32m/usr/local/lib/python3.6/dist-packages/sklearn/utils/validation.py\u001b[0m in \u001b[0;36mcheck_array\u001b[0;34m(array, accept_sparse, accept_large_sparse, dtype, order, copy, force_all_finite, ensure_2d, allow_nd, ensure_min_samples, ensure_min_features, warn_on_dtype, estimator)\u001b[0m\n\u001b[1;32m    550\u001b[0m                     \u001b[0;34m\"Reshape your data either using array.reshape(-1, 1) if \"\u001b[0m\u001b[0;34m\u001b[0m\u001b[0;34m\u001b[0m\u001b[0m\n\u001b[1;32m    551\u001b[0m                     \u001b[0;34m\"your data has a single feature or array.reshape(1, -1) \"\u001b[0m\u001b[0;34m\u001b[0m\u001b[0;34m\u001b[0m\u001b[0m\n\u001b[0;32m--> 552\u001b[0;31m                     \"if it contains a single sample.\".format(array))\n\u001b[0m\u001b[1;32m    553\u001b[0m \u001b[0;34m\u001b[0m\u001b[0m\n\u001b[1;32m    554\u001b[0m         \u001b[0;31m# in the future np.flexible dtypes will be handled like object dtypes\u001b[0m\u001b[0;34m\u001b[0m\u001b[0;34m\u001b[0m\u001b[0;34m\u001b[0m\u001b[0m\n",
            "\u001b[0;31mValueError\u001b[0m: Expected 2D array, got 1D array instead:\narray=[204.  nan].\nReshape your data either using array.reshape(-1, 1) if your data has a single feature or array.reshape(1, -1) if it contains a single sample."
          ]
        }
      ]
    }
  ]
}